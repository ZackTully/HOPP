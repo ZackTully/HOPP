{
 "cells": [
  {
   "cell_type": "markdown",
   "metadata": {},
   "source": [
    "First draft of Jupyter notebook file for OpenMDAO analysis and optimization runs within HOPP"
   ]
  },
  {
   "cell_type": "code",
   "execution_count": null,
   "metadata": {},
   "outputs": [],
   "source": [
    "import openmdao.api as om\n",
    "import json\n",
    "from pathlib import Path\n",
    "import time\n",
    "\n",
    "from hybrid.openmdao_wrapper import HybridSystem\n",
    "from hybrid.sites import SiteInfo, flatirons_site\n",
    "from hybrid.hybrid_simulation import HybridSimulation\n",
    "from hybrid.log import hybrid_logger as logger\n",
    "from hybrid.keys import set_nrel_key_dot_env\n",
    "\n",
    "\n",
    "start_time = time.time()\n",
    "\n",
    "resource_files_dir = Path(__file__).parent.absolute().parent.absolute().parent.absolute() / 'resource_files'\n",
    "\n",
    "# Set API key\n",
    "set_nrel_key_dot_env()\n",
    "\n",
    "if __name__ == \"__main__\":\n",
    "    ### build the model\n",
    "    prob = om.Problem()\n",
    "    prob.model.add_subsystem('hybrid_system', HybridSystem(location=flatirons_site, battery=False, grid=True, sim_duration_years=25, hybrid_rated_power=250), promotes_inputs=['wind_fraction'], promotes_outputs=['hybrid_annual_energy'])\n",
    "\n",
    "    ### setup the optimization\n",
    "    prob.driver = om.ScipyOptimizeDriver()\n",
    "    prob.driver.options['optimizer'] = 'trust-constr'\n",
    "    prob.driver.options['tol'] = 1e-3\n",
    "    prob.driver.options['disp'] = True\n",
    "    # prob.driver = om.DOEDriver(om.FullFactorialGenerator(levels=76))\n",
    "    prob.driver.options['debug_print'] = [\"desvars\", \"objs\"]\n",
    "    prob.driver.add_recorder(om.SqliteRecorder(\"cases.sql\"))\n",
    "    # prob.driver.recording_options['includes'] = ['*']\n",
    "\n",
    "    ### setup design variables\n",
    "    # Solar DVs\n",
    "    # prob.model.add_design_var('solar_size_mw', lower=0.001, upper=15.)\n",
    "    # prob.model.add_design_var('solar_fraction', lower=0.001, upper=0.999)\n",
    "\n",
    "    # Wind DVs\n",
    "    prob.model.add_design_var('wind_fraction', lower=0., upper=1.)\n",
    "    # prob.model.add_design_var('wind_size_mw', lower=0.001, upper=15.)\n",
    "    # prob.model.add_design_var('turbine_rating_kw', lower=10, upper=14000)\n",
    "\n",
    "    # Battery DVs\n",
    "    # prob.model.add_design_var('battery_capacity_mwh', lower=0., upper=5.)\n",
    "    # prob.model.add_design_var('battery_power_mw', lower=0., upper=5.) \n",
    "\n",
    "    # Grid DVs\n",
    "    # prob.model.add_design_var('interconnection_size_mw', lower=0., upper=5.)\n",
    "\n",
    "    # COBYLA Constraints:\n",
    "    prob.model.add_constraint('wind_fraction', lower=0., upper=1.)\n",
    "\n",
    "    ## setup objective function\n",
    "    # prob.model.add_objective('hybrid_npv', ref=-1.e9)\n",
    "    # prob.model.add_objective('hybrid_lcoe_real', ref=1.)\n",
    "    prob.model.add_objective('hybrid_annual_energy', ref=-1.e9)\n",
    "     \n",
    "    prob.model.approx_totals(method='fd', step=1e-3, form='central')\n",
    "\n",
    "    prob.setup()\n",
    "    prob.run_driver()\n",
    "\n",
    "    print('design variable =', prob['wind_fraction'])\n",
    "    print('objective =', prob['hybrid_annual_energy'])\n",
    "\n",
    "    prob.model.list_outputs()\n",
    "\n",
    "    end_time = time.time()\n",
    "    print('run time = ', (end_time - start_time))"
   ]
  }
 ],
 "metadata": {
  "kernelspec": {
   "display_name": "Python 3.9.7 ('base': conda)",
   "language": "python",
   "name": "python3"
  },
  "language_info": {
   "codemirror_mode": {
    "name": "ipython",
    "version": 3
   },
   "file_extension": ".py",
   "mimetype": "text/x-python",
   "name": "python",
   "nbconvert_exporter": "python",
   "pygments_lexer": "ipython3",
   "version": "3.9.7"
  },
  "orig_nbformat": 4,
  "vscode": {
   "interpreter": {
    "hash": "be36a5d2aad22db6507df7da1df216544cf60129e76ffacce4554b1512d69de1"
   }
  }
 },
 "nbformat": 4,
 "nbformat_minor": 2
}
