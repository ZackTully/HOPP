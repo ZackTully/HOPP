{
 "cells": [
  {
   "cell_type": "markdown",
   "metadata": {},
   "source": [
    "First draft of Jupyter notebook file for OpenMDAO analysis and optimization runs within HOPP"
   ]
  },
  {
   "cell_type": "markdown",
   "metadata": {},
   "source": [
    "Load / import necessary modules"
   ]
  },
  {
   "cell_type": "code",
   "execution_count": null,
   "metadata": {},
   "outputs": [],
   "source": [
    "import openmdao.api as om\n",
    "import json\n",
    "from pathlib import Path\n",
    "import time\n",
    "import os\n",
    "\n",
    "from hybrid.openmdao_wrapper import HybridSystem\n",
    "from hybrid.sites import SiteInfo, flatirons_site\n",
    "from hybrid.hybrid_simulation import HybridSimulation\n",
    "from hybrid.log import hybrid_logger as logger\n",
    "from hybrid.keys import set_developer_nrel_gov_key\n",
    "from dotenv import load_dotenv"
   ]
  },
  {
   "cell_type": "markdown",
   "metadata": {},
   "source": [
    "Set API Key\n",
    "This step gives you access to wind and solar resource data that will be fetched automatically for your desired location. \n",
    "\n",
    "If you need an NREL API key, please get one here: https://developer.nrel.gov/signup/"
   ]
  },
  {
   "cell_type": "code",
   "execution_count": null,
   "metadata": {},
   "outputs": [],
   "source": [
    "load_dotenv()                                   # requires .env file to exist within HOPP root directory when mybinder is created\n",
    "NREL_API_KEY = os.getenv(\"NREL_API_KEY\")        # Same as above\n",
    "set_developer_nrel_gov_key(str(NREL_API_KEY))   # Manually set the api key here if not using .env file"
   ]
  },
  {
   "cell_type": "markdown",
   "metadata": {},
   "source": [
    "User Inputs: TODO"
   ]
  },
  {
   "cell_type": "code",
   "execution_count": null,
   "metadata": {},
   "outputs": [],
   "source": [
    "# Fill this section with user inputs, possibly include widgets here for UX design"
   ]
  },
  {
   "cell_type": "markdown",
   "metadata": {},
   "source": [
    "OpenMDAO run section"
   ]
  },
  {
   "cell_type": "markdown",
   "metadata": {},
   "source": [
    "start_time = time.time() # ID start time of program\n",
    "\n",
    "resource_files_dir = os.path.abspath('') + '/resource_files' # set resource_files directory path\n",
    "\n",
    "if __name__ == \"__main__\":\n",
    "    ### build the model\n",
    "    prob = om.Problem()\n",
    "    prob.model.add_subsystem('hybrid_system', HybridSystem(location=flatirons_site, battery=False, grid=True, sim_duration_years=25, hybrid_rated_power=250), promotes_inputs=['wind_fraction'], promotes_outputs=['hybrid_annual_energy'])\n",
    "\n",
    "    ### setup the optimization\n",
    "    prob.driver = om.ScipyOptimizeDriver()\n",
    "    prob.driver.options['optimizer'] = 'trust-constr'\n",
    "    prob.driver.options['tol'] = 1e-3\n",
    "    prob.driver.options['disp'] = True\n",
    "    # prob.driver = om.DOEDriver(om.FullFactorialGenerator(levels=76))\n",
    "    prob.driver.options['debug_print'] = [\"desvars\", \"objs\"]\n",
    "    prob.driver.add_recorder(om.SqliteRecorder(\"cases.sql\"))\n",
    "    # prob.driver.recording_options['includes'] = ['*']\n",
    "\n",
    "    ### setup design variables\n",
    "    # Solar DVs\n",
    "    # prob.model.add_design_var('solar_size_mw', lower=0.001, upper=15.)\n",
    "    # prob.model.add_design_var('solar_fraction', lower=0.001, upper=0.999)\n",
    "\n",
    "    # Wind DVs\n",
    "    prob.model.add_design_var('wind_fraction', lower=0., upper=1.)\n",
    "    # prob.model.add_design_var('wind_size_mw', lower=0.001, upper=15.)\n",
    "    # prob.model.add_design_var('turbine_rating_kw', lower=10, upper=14000)\n",
    "\n",
    "    # Battery DVs\n",
    "    # prob.model.add_design_var('battery_capacity_mwh', lower=0., upper=5.)\n",
    "    # prob.model.add_design_var('battery_power_mw', lower=0., upper=5.) \n",
    "\n",
    "    # Grid DVs\n",
    "    # prob.model.add_design_var('interconnection_size_mw', lower=0., upper=5.)\n",
    "\n",
    "    # COBYLA Constraints:\n",
    "    prob.model.add_constraint('wind_fraction', lower=0., upper=1.)\n",
    "\n",
    "    ## setup objective function\n",
    "    # prob.model.add_objective('hybrid_npv', ref=-1.e9)\n",
    "    # prob.model.add_objective('hybrid_lcoe_real', ref=1.)\n",
    "    prob.model.add_objective('hybrid_annual_energy', ref=-1.e9)\n",
    "     \n",
    "    prob.model.approx_totals(method='fd', step=1e-3, form='central')\n",
    "\n",
    "    prob.setup()\n",
    "    prob.run_driver()\n",
    "\n",
    "    print('design variable =', prob['wind_fraction'])\n",
    "    print('objective =', prob['hybrid_annual_energy'])\n",
    "\n",
    "    prob.model.list_outputs()\n",
    "\n",
    "    end_time = time.time() # ID end time of program\n",
    "    print('run time = ', (end_time - start_time)) # ID total run time in seconds"
   ]
  }
 ],
 "metadata": {
  "kernelspec": {
   "display_name": "Python 3.9.7 ('base': conda)",
   "language": "python",
   "name": "python3"
  },
  "language_info": {
   "codemirror_mode": {
    "name": "ipython",
    "version": 3
   },
   "file_extension": ".py",
   "mimetype": "text/x-python",
   "name": "python",
   "nbconvert_exporter": "python",
   "pygments_lexer": "ipython3",
   "version": "3.9.7"
  },
  "orig_nbformat": 4,
  "vscode": {
   "interpreter": {
    "hash": "be36a5d2aad22db6507df7da1df216544cf60129e76ffacce4554b1512d69de1"
   }
  }
 },
 "nbformat": 4,
 "nbformat_minor": 2
}
